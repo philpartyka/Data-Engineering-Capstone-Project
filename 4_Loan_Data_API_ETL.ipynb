{
 "cells": [
  {
   "attachments": {},
   "cell_type": "markdown",
   "metadata": {},
   "source": [
    "# Extraction"
   ]
  },
  {
   "cell_type": "code",
   "execution_count": 1,
   "metadata": {},
   "outputs": [],
   "source": [
    "import requests\n",
    "from pyspark.sql import SparkSession\n",
    "import pyspark.sql.functions as F\n",
    "from pyspark.sql.types import *\n",
    "import mysql.connector as msql\n",
    "from mysql.connector import Error\n",
    "# This file contains our login information for the MySQL server\n",
    "import credentials as C"
   ]
  },
  {
   "cell_type": "code",
   "execution_count": 2,
   "metadata": {},
   "outputs": [
    {
     "name": "stdout",
     "output_type": "stream",
     "text": [
      "Status code: 200\n",
      "Dataframe succefully created\n"
     ]
    }
   ],
   "source": [
    "# store API url\n",
    "url = 'https://raw.githubusercontent.com/platformps/LoanDataset/main/loan_data.json'\n",
    "\n",
    "# assign the headers- not always necessary, but something we have to do with the GitHub API\n",
    "headers = {'Accept': 'application/vnd.github.v3+json'}\n",
    "\n",
    "# assign the requests method\n",
    "r = requests.get(url, headers=headers)\n",
    "\n",
    "# print a status update for the requests command\n",
    "print(f\"Status code: {r.status_code}\")\n",
    "\n",
    "# store API response to variable\n",
    "api_results = r.json()\n",
    "\n",
    "spark = SparkSession.builder.appName(\"Loan Data Load\").getOrCreate()\n",
    "\n",
    "# Convert the API response to an RDD\n",
    "json_rdd = spark.sparkContext.parallelize([api_results])\n",
    "\n",
    "# Read the RDD as a DataFrame using spark.read.json()\n",
    "loan_data_df = spark.read.json(json_rdd)\n",
    "\n",
    "print(\"Dataframe succefully created\")"
   ]
  },
  {
   "cell_type": "code",
   "execution_count": 8,
   "metadata": {},
   "outputs": [
    {
     "name": "stdout",
     "output_type": "stream",
     "text": [
      "root\n",
      " |-- Application_ID: string (nullable = true)\n",
      " |-- Application_Status: string (nullable = true)\n",
      " |-- Credit_History: long (nullable = true)\n",
      " |-- Dependents: string (nullable = true)\n",
      " |-- Education: string (nullable = true)\n",
      " |-- Gender: string (nullable = true)\n",
      " |-- Income: string (nullable = true)\n",
      " |-- Married: string (nullable = true)\n",
      " |-- Property_Area: string (nullable = true)\n",
      " |-- Self_Employed: string (nullable = true)\n",
      "\n",
      "+--------------+------------------+--------------+----------+------------+------+------+-------+-------------+-------------+\n",
      "|Application_ID|Application_Status|Credit_History|Dependents|   Education|Gender|Income|Married|Property_Area|Self_Employed|\n",
      "+--------------+------------------+--------------+----------+------------+------+------+-------+-------------+-------------+\n",
      "|      LP001002|                 Y|             1|         0|    Graduate|  Male|medium|     No|        Urban|           No|\n",
      "|      LP001003|                 N|             1|         1|    Graduate|  Male|medium|    Yes|        Rural|           No|\n",
      "|      LP001005|                 Y|             1|         0|    Graduate|  Male|   low|    Yes|        Urban|          Yes|\n",
      "|      LP001006|                 Y|             1|         0|Not Graduate|  Male|   low|    Yes|        Urban|           No|\n",
      "|      LP001008|                 Y|             1|         0|    Graduate|  Male|medium|     No|        Urban|           No|\n",
      "|      LP001011|                 Y|             1|         2|    Graduate|  Male|medium|    Yes|        Urban|          Yes|\n",
      "|      LP001013|                 Y|             1|         0|Not Graduate|  Male|   low|    Yes|        Urban|           No|\n",
      "|      LP001014|                 N|             0|        3+|    Graduate|  Male|   low|    Yes|    Semiurban|           No|\n",
      "|      LP001018|                 Y|             1|         2|    Graduate|  Male|medium|    Yes|        Urban|           No|\n",
      "|      LP001020|                 N|             1|         1|    Graduate|  Male|  high|    Yes|    Semiurban|           No|\n",
      "+--------------+------------------+--------------+----------+------------+------+------+-------+-------------+-------------+\n",
      "only showing top 10 rows\n",
      "\n"
     ]
    }
   ],
   "source": [
    "loan_data_df.printSchema()\n",
    "loan_data_df.show(10)"
   ]
  },
  {
   "attachments": {},
   "cell_type": "markdown",
   "metadata": {},
   "source": [
    "Lets see what the unique values are in each of the dataframe columns"
   ]
  },
  {
   "cell_type": "code",
   "execution_count": 10,
   "metadata": {},
   "outputs": [
    {
     "name": "stdout",
     "output_type": "stream",
     "text": [
      "Unique values in column 'Application_Status':\n",
      "Y\n",
      "N\n",
      "\n",
      "Unique values in column 'Credit_History':\n",
      "0\n",
      "1\n",
      "\n",
      "Unique values in column 'Dependents':\n",
      "0\n",
      "1\n",
      "3+\n",
      "2\n",
      "\n",
      "Unique values in column 'Education':\n",
      "Not Graduate\n",
      "Graduate\n",
      "\n",
      "Unique values in column 'Gender':\n",
      "Female\n",
      "Male\n",
      "\n",
      "Unique values in column 'Income':\n",
      "low\n",
      "high\n",
      "medium\n",
      "\n",
      "Unique values in column 'Married':\n",
      "No\n",
      "Yes\n",
      "\n",
      "Unique values in column 'Property_Area':\n",
      "Urban\n",
      "Semiurban\n",
      "Rural\n",
      "\n",
      "Unique values in column 'Self_Employed':\n",
      "No\n",
      "Yes\n",
      "\n"
     ]
    }
   ],
   "source": [
    "for column in loan_data_df.columns:\n",
    "    # skip the first column since that column is all unique\n",
    "    if column == 'Application_ID':\n",
    "        continue\n",
    "    unique_values = loan_data_df.select(column).distinct().collect()\n",
    "    print(f\"Column: {column}\")\n",
    "    for row in unique_values:\n",
    "        print(row[column])\n",
    "    print()"
   ]
  },
  {
   "attachments": {},
   "cell_type": "markdown",
   "metadata": {},
   "source": [
    "Let's create the sql query to create the table."
   ]
  },
  {
   "cell_type": "code",
   "execution_count": 34,
   "metadata": {},
   "outputs": [],
   "source": [
    "jdbc_url = f\"jdbc:mysql://{C.host_name}:3306/creditcard_capstone\"\n",
    "table_name = \"cdw_sapp_loan_application\"\n",
    "connection_properties = {\n",
    "    \"user\": C.user_name,\n",
    "    \"password\": C.password,\n",
    "    \"driver\": \"com.mysql.jdbc.Driver\"}"
   ]
  },
  {
   "cell_type": "code",
   "execution_count": 50,
   "metadata": {},
   "outputs": [],
   "source": [
    "column_types = [\n",
    "    \"ID CHAR(8) NOT NULL\",\n",
    "    \"Gender VARCHAR(6)\",\n",
    "    \"Married VARCHAR(3)\",\n",
    "    \"Dependents VARCHAR(2)\",\n",
    "    \"Education VARCHAR(12)\",\n",
    "    \"Self_Employed VARCHAR(3)\",\n",
    "    \"Credit_History VARCHAR(1)\",\n",
    "    \"Property_Area VARCHAR(10)\",\n",
    "    \"Income VARCHAR(8)\",\n",
    "    \"Application_Status VARCHAR(1)\"]"
   ]
  },
  {
   "cell_type": "code",
   "execution_count": 52,
   "metadata": {},
   "outputs": [],
   "source": [
    "# Define the primary key constraint separately\n",
    "primary_key_constraint = \"PRIMARY KEY (ID)\"\n",
    "\n",
    "# Combine the column types and primary key constraint\n",
    "create_table_query = f\"({', '.join(column_types)}, {primary_key_constraint})\""
   ]
  },
  {
   "cell_type": "code",
   "execution_count": 54,
   "metadata": {},
   "outputs": [],
   "source": [
    "# Write the DataFrame to the MySQL database\n",
    "loan_data_df.write.mode(\"overwrite\")\\\n",
    "    .option(\"dropTableIfExists\", \"true\")\\\n",
    "    .jdbc(url=jdbc_url, table=table_name, properties=connection_properties)"
   ]
  },
  {
   "cell_type": "markdown",
   "metadata": {},
   "source": []
  },
  {
   "cell_type": "markdown",
   "metadata": {},
   "source": []
  },
  {
   "cell_type": "markdown",
   "metadata": {},
   "source": []
  },
  {
   "cell_type": "markdown",
   "metadata": {},
   "source": []
  },
  {
   "cell_type": "code",
   "execution_count": 6,
   "metadata": {},
   "outputs": [
    {
     "name": "stdout",
     "output_type": "stream",
     "text": [
      "Loan Application data fully loaded\n"
     ]
    }
   ],
   "source": [
    "mysql_properties = {\n",
    "    \"url\": \"jdbc:mysql://{host}:{port}/{database}\".format(\n",
    "        host=C.host_name,\n",
    "        port=C.port,\n",
    "        database=\"creditcard_capstone\"\n",
    "    ),\n",
    "    \"driver\": \"com.mysql.jdbc.Driver\",\n",
    "    \"user\": C.user_name,\n",
    "    \"password\": C.password,\n",
    "    \"dbtable\": \"cdw_sapp_loan_application\"\n",
    "}\n",
    "\n",
    "try:\n",
    "    # Write the PySpark DataFrame to MySQL\n",
    "    loan_data_df.write \\\n",
    "        .mode(\"overwrite\") \\\n",
    "        .format(\"jdbc\") \\\n",
    "        .options(**mysql_properties) \\\n",
    "        .save()\n",
    "\n",
    "    print(\"Loan Application data fully loaded\")\n",
    "\n",
    "except Exception as e:\n",
    "    print('Error while connecting to MySQL:', e)"
   ]
  },
  {
   "cell_type": "markdown",
   "metadata": {},
   "source": []
  },
  {
   "cell_type": "markdown",
   "metadata": {},
   "source": []
  },
  {
   "cell_type": "code",
   "execution_count": 3,
   "metadata": {},
   "outputs": [],
   "source": [
    "loan_table = (\n",
    "\"CREATE TABLE IF NOT EXISTS `cdw_sapp_loan_application` (\"\n",
    "\"  `ID` CHAR(8) NOT NULL,\"\n",
    "\"  `Gender` VARCHAR(6) NULL,\"\n",
    "\"  `Married` VARCHAR(3) NULL,\"\n",
    "\"  `Dependents` VARCHAR(2) NULL,\"\n",
    "\"  `Education` VARCHAR(12) NULL,\"\n",
    "\"  `Self_Employed` VARCHAR(3) NULL,\" \n",
    "\"  `Credit_History` VARCHAR(1) NULL,\"\n",
    "\"  `Property_Area` VARCHAR(10) NULL,\"\n",
    "\"  `Income` VARCHAR(8) NULL,\"\n",
    "\"  `Application_Status` VARCHAR(1) NULL,\"\n",
    "\"  PRIMARY KEY (`ID`))\"\n",
    "\"ENGINE = InnoDB  \")"
   ]
  },
  {
   "cell_type": "code",
   "execution_count": 4,
   "metadata": {},
   "outputs": [],
   "source": [
    "# Connect to MySQL\n",
    "conn = msql.connect(host = C.host_name, database = 'creditcard_capstone',\n",
    "                        user = C.user_name, password = C.password)\n",
    "\n",
    "# Create the table\n",
    "cursor = conn.cursor()\n",
    "cursor.execute(loan_table)"
   ]
  },
  {
   "cell_type": "code",
   "execution_count": 5,
   "metadata": {},
   "outputs": [
    {
     "ename": "TypeError",
     "evalue": "DataFrameWriter.jdbc() got multiple values for argument 'mode'",
     "output_type": "error",
     "traceback": [
      "\u001b[1;31m---------------------------------------------------------------------------\u001b[0m",
      "\u001b[1;31mTypeError\u001b[0m                                 Traceback (most recent call last)",
      "Cell \u001b[1;32mIn[5], line 1\u001b[0m\n\u001b[1;32m----> 1\u001b[0m loan_data_df\u001b[39m.\u001b[39;49mwrite\u001b[39m.\u001b[39;49mjdbc(\n\u001b[0;32m      2\u001b[0m     \u001b[39m\"\u001b[39;49m\u001b[39mjdbc:mysql://localhost:3306/creditcard_capstone\u001b[39;49m\u001b[39m\"\u001b[39;49m, \u001b[39m\"\u001b[39;49m\u001b[39mcdw_sapp_loan_application\u001b[39;49m\u001b[39m\"\u001b[39;49m,\n\u001b[0;32m      3\u001b[0m     \u001b[39m\"\u001b[39;49m\u001b[39mmypassword\u001b[39;49m\u001b[39m\"\u001b[39;49m, mode\u001b[39m=\u001b[39;49m\u001b[39m\"\u001b[39;49m\u001b[39moverwrite\u001b[39;49m\u001b[39m\"\u001b[39;49m)\n",
      "\u001b[1;31mTypeError\u001b[0m: DataFrameWriter.jdbc() got multiple values for argument 'mode'"
     ]
    }
   ],
   "source": [
    "loan_data_df.write.jdbc(\n",
    "    \"jdbc:mysql://localhost:3306/creditcard_capstone\", \"cdw_sapp_loan_application\",\n",
    "    \"mypassword\", mode=\"overwrite\")"
   ]
  },
  {
   "cell_type": "markdown",
   "metadata": {},
   "source": [
    "Let's connect to the database."
   ]
  },
  {
   "cell_type": "code",
   "execution_count": null,
   "metadata": {},
   "outputs": [
    {
     "name": "stdout",
     "output_type": "stream",
     "text": [
      "You're connected to database:  ('creditcard_capstone',)\n"
     ]
    }
   ],
   "source": [
    "try:\n",
    "    conn = msql.connect(host = C.host_name, database = 'creditcard_capstone',\n",
    "                        user = C.user_name, password = C.password)\n",
    "    if conn.is_connected():\n",
    "        cursor = conn.cursor()\n",
    "        cursor.execute(\"select database();\")\n",
    "        record = cursor.fetchone()\n",
    "        print(\"You're connected to database: \", record)\n",
    "except Error as e:\n",
    "    print('Error while connecting to MySQL',e)"
   ]
  },
  {
   "cell_type": "code",
   "execution_count": null,
   "metadata": {},
   "outputs": [],
   "source": [
    "loan_table = (\n",
    "\"CREATE TABLE IF NOT EXISTS `cdw_sapp_loan_application` (\"\n",
    "\"  `ID` CHAR(8) NOT NULL,\"\n",
    "\"  `Gender` VARCHAR(6) NULL,\"\n",
    "\"  `Married` VARCHAR(3) NULL,\"\n",
    "\"  `Dependents` VARCHAR(2) NULL,\"\n",
    "\"  `Education` VARCHAR(12) NULL,\"\n",
    "\"  `Self_Employed` VARCHAR(3) NULL,\" \n",
    "\"  `Credit_History` VARCHAR(1) NULL,\"\n",
    "\"  `Property_Area` VARCHAR(10) NULL,\"\n",
    "\"  `Income` VARCHAR(8) NULL,\"\n",
    "\"  `Application_Status` VARCHAR(1) NULL,\"\n",
    "\"  PRIMARY KEY (`ID`))\"\n",
    "\"ENGINE = InnoDB  \")"
   ]
  },
  {
   "cell_type": "code",
   "execution_count": 14,
   "metadata": {},
   "outputs": [
    {
     "name": "stdout",
     "output_type": "stream",
     "text": [
      "Creating cdw_sapp_loan_application table....\n",
      "cdw_sapp_branch table is created....\n"
     ]
    },
    {
     "ename": "AttributeError",
     "evalue": "'DataFrame' object has no attribute 'iterrows'",
     "output_type": "error",
     "traceback": [
      "\u001b[1;31m---------------------------------------------------------------------------\u001b[0m",
      "\u001b[1;31mAttributeError\u001b[0m                            Traceback (most recent call last)",
      "Cell \u001b[1;32mIn[14], line 9\u001b[0m\n\u001b[0;32m      7\u001b[0m \u001b[39mprint\u001b[39m(\u001b[39m\"\u001b[39m\u001b[39mcdw_sapp_branch table is created....\u001b[39m\u001b[39m\"\u001b[39m)\n\u001b[0;32m      8\u001b[0m \u001b[39m#loop through the data frame\u001b[39;00m\n\u001b[1;32m----> 9\u001b[0m \u001b[39mfor\u001b[39;00m i,row \u001b[39min\u001b[39;00m loan_data_df\u001b[39m.\u001b[39;49miterrows():\n\u001b[0;32m     10\u001b[0m     \u001b[39m#here %S represents each object in the row, one object per column\u001b[39;00m\n\u001b[0;32m     11\u001b[0m     sql \u001b[39m=\u001b[39m \u001b[39m\"\u001b[39m\u001b[39mINSERT INTO creditcard_capstone.cdw_sapp_loan_application\u001b[39m\u001b[39m\\\u001b[39;00m\n\u001b[0;32m     12\u001b[0m \u001b[39m          VALUES (\u001b[39m\u001b[39m%s\u001b[39;00m\u001b[39m,\u001b[39m\u001b[39m%s\u001b[39;00m\u001b[39m,\u001b[39m\u001b[39m%s\u001b[39;00m\u001b[39m,\u001b[39m\u001b[39m%s\u001b[39;00m\u001b[39m,\u001b[39m\u001b[39m%s\u001b[39;00m\u001b[39m,\u001b[39m\u001b[39m%s\u001b[39;00m\u001b[39m,\u001b[39m\u001b[39m%s\u001b[39;00m\u001b[39m,\u001b[39m\u001b[39m%s\u001b[39;00m\u001b[39m,\u001b[39m\u001b[39m%s\u001b[39;00m\u001b[39m,\u001b[39m\u001b[39m%s\u001b[39;00m\u001b[39m)\u001b[39m\u001b[39m\"\u001b[39m\n\u001b[0;32m     13\u001b[0m     cursor\u001b[39m.\u001b[39mexecute(sql, \u001b[39mtuple\u001b[39m(row))\n",
      "File \u001b[1;32mc:\\Users\\phil\\AppData\\Local\\Programs\\Python\\Python310\\lib\\site-packages\\pyspark\\sql\\dataframe.py:2977\u001b[0m, in \u001b[0;36mDataFrame.__getattr__\u001b[1;34m(self, name)\u001b[0m\n\u001b[0;32m   2944\u001b[0m \u001b[39m\u001b[39m\u001b[39m\"\"\"Returns the :class:`Column` denoted by ``name``.\u001b[39;00m\n\u001b[0;32m   2945\u001b[0m \n\u001b[0;32m   2946\u001b[0m \u001b[39m.. versionadded:: 1.3.0\u001b[39;00m\n\u001b[1;32m   (...)\u001b[0m\n\u001b[0;32m   2974\u001b[0m \u001b[39m+---+\u001b[39;00m\n\u001b[0;32m   2975\u001b[0m \u001b[39m\"\"\"\u001b[39;00m\n\u001b[0;32m   2976\u001b[0m \u001b[39mif\u001b[39;00m name \u001b[39mnot\u001b[39;00m \u001b[39min\u001b[39;00m \u001b[39mself\u001b[39m\u001b[39m.\u001b[39mcolumns:\n\u001b[1;32m-> 2977\u001b[0m     \u001b[39mraise\u001b[39;00m \u001b[39mAttributeError\u001b[39;00m(\n\u001b[0;32m   2978\u001b[0m         \u001b[39m\"\u001b[39m\u001b[39m'\u001b[39m\u001b[39m%s\u001b[39;00m\u001b[39m'\u001b[39m\u001b[39m object has no attribute \u001b[39m\u001b[39m'\u001b[39m\u001b[39m%s\u001b[39;00m\u001b[39m'\u001b[39m\u001b[39m\"\u001b[39m \u001b[39m%\u001b[39m (\u001b[39mself\u001b[39m\u001b[39m.\u001b[39m\u001b[39m__class__\u001b[39m\u001b[39m.\u001b[39m\u001b[39m__name__\u001b[39m, name)\n\u001b[0;32m   2979\u001b[0m     )\n\u001b[0;32m   2980\u001b[0m jc \u001b[39m=\u001b[39m \u001b[39mself\u001b[39m\u001b[39m.\u001b[39m_jdf\u001b[39m.\u001b[39mapply(name)\n\u001b[0;32m   2981\u001b[0m \u001b[39mreturn\u001b[39;00m Column(jc)\n",
      "\u001b[1;31mAttributeError\u001b[0m: 'DataFrame' object has no attribute 'iterrows'"
     ]
    }
   ],
   "source": [
    "try:\n",
    "    if conn.is_connected():\n",
    "        #lets add the loan into the db\n",
    "        cursor.execute('DROP TABLE IF EXISTS cdw_sapp_loan_application;')\n",
    "        print('Creating cdw_sapp_loan_application table....')\n",
    "        cursor.execute(loan_table)\n",
    "        print(\"cdw_sapp_branch table is created....\")\n",
    "        #loop through the data frame\n",
    "        for i,row in loan_data_df.iterrows():\n",
    "            #here %S represents each object in the row, one object per column\n",
    "            sql = \"INSERT INTO creditcard_capstone.cdw_sapp_loan_application\\\n",
    "                  VALUES (%s,%s,%s,%s,%s,%s,%s,%s,%s,%s)\"\n",
    "            cursor.execute(sql, tuple(row))\n",
    "            print(f\"{i+1} Loan Application Records inserted\")\n",
    "            # the connection is not auto committed by default so we must commit to save our changes\n",
    "            conn.commit()\n",
    "        print(\"Loan Application data fulled loaded\")\n",
    "except Error as e:\n",
    "    print('Error while connecting to MySQL',e)"
   ]
  }
 ],
 "metadata": {
  "kernelspec": {
   "display_name": "Python 3",
   "language": "python",
   "name": "python3"
  },
  "language_info": {
   "codemirror_mode": {
    "name": "ipython",
    "version": 3
   },
   "file_extension": ".py",
   "mimetype": "text/x-python",
   "name": "python",
   "nbconvert_exporter": "python",
   "pygments_lexer": "ipython3",
   "version": "3.10.7"
  },
  "orig_nbformat": 4
 },
 "nbformat": 4,
 "nbformat_minor": 2
}
