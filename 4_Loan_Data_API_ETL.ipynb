{
 "cells": [
  {
   "attachments": {},
   "cell_type": "markdown",
   "metadata": {},
   "source": [
    "# Extraction"
   ]
  },
  {
   "cell_type": "code",
   "execution_count": 1,
   "metadata": {},
   "outputs": [],
   "source": [
    "import requests\n",
    "from pyspark.sql import SparkSession\n",
    "import pyspark.sql.functions as F\n",
    "from pyspark.sql.types import *\n",
    "import mysql.connector as msql\n",
    "from mysql.connector import Error\n",
    "# This file contains our login information for the MySQL server\n",
    "import credentials as C"
   ]
  },
  {
   "cell_type": "code",
   "execution_count": 9,
   "metadata": {},
   "outputs": [
    {
     "name": "stdout",
     "output_type": "stream",
     "text": [
      "Status code: 200\n",
      "Dataframe succefully created\n"
     ]
    }
   ],
   "source": [
    "# store API url\n",
    "url = 'https://raw.githubusercontent.com/platformps/LoanDataset/main/loan_data.json'\n",
    "\n",
    "# assign the headers- not always necessary, but something we have to do with the GitHub API\n",
    "headers = {'Accept': 'application/vnd.github.v3+json'}\n",
    "\n",
    "# assign the requests method\n",
    "r = requests.get(url, headers=headers)\n",
    "\n",
    "# print a status update for the requests command\n",
    "print(f\"Status code: {r.status_code}\")\n",
    "\n",
    "# store API response to variable\n",
    "api_results = r.json()\n",
    "\n",
    "spark = SparkSession.builder.appName(\"Loan Data Load\").getOrCreate()\n",
    "\n",
    "# Convert the API response to an RDD\n",
    "json_rdd = spark.sparkContext.parallelize([api_results])\n",
    "\n",
    "# Read the RDD as a DataFrame using spark.read.json()\n",
    "loan_data_df = spark.read.json(json_rdd)\n",
    "\n",
    "print(\"Dataframe succefully created\")"
   ]
  },
  {
   "cell_type": "code",
   "execution_count": 10,
   "metadata": {},
   "outputs": [
    {
     "name": "stdout",
     "output_type": "stream",
     "text": [
      "root\n",
      " |-- Application_ID: string (nullable = true)\n",
      " |-- Application_Status: string (nullable = true)\n",
      " |-- Credit_History: long (nullable = true)\n",
      " |-- Dependents: string (nullable = true)\n",
      " |-- Education: string (nullable = true)\n",
      " |-- Gender: string (nullable = true)\n",
      " |-- Income: string (nullable = true)\n",
      " |-- Married: string (nullable = true)\n",
      " |-- Property_Area: string (nullable = true)\n",
      " |-- Self_Employed: string (nullable = true)\n",
      "\n",
      "+--------------+------------------+--------------+----------+------------+------+------+-------+-------------+-------------+\n",
      "|Application_ID|Application_Status|Credit_History|Dependents|   Education|Gender|Income|Married|Property_Area|Self_Employed|\n",
      "+--------------+------------------+--------------+----------+------------+------+------+-------+-------------+-------------+\n",
      "|      LP001002|                 Y|             1|         0|    Graduate|  Male|medium|     No|        Urban|           No|\n",
      "|      LP001003|                 N|             1|         1|    Graduate|  Male|medium|    Yes|        Rural|           No|\n",
      "|      LP001005|                 Y|             1|         0|    Graduate|  Male|   low|    Yes|        Urban|          Yes|\n",
      "|      LP001006|                 Y|             1|         0|Not Graduate|  Male|   low|    Yes|        Urban|           No|\n",
      "|      LP001008|                 Y|             1|         0|    Graduate|  Male|medium|     No|        Urban|           No|\n",
      "|      LP001011|                 Y|             1|         2|    Graduate|  Male|medium|    Yes|        Urban|          Yes|\n",
      "|      LP001013|                 Y|             1|         0|Not Graduate|  Male|   low|    Yes|        Urban|           No|\n",
      "|      LP001014|                 N|             0|        3+|    Graduate|  Male|   low|    Yes|    Semiurban|           No|\n",
      "|      LP001018|                 Y|             1|         2|    Graduate|  Male|medium|    Yes|        Urban|           No|\n",
      "|      LP001020|                 N|             1|         1|    Graduate|  Male|  high|    Yes|    Semiurban|           No|\n",
      "+--------------+------------------+--------------+----------+------------+------+------+-------+-------------+-------------+\n",
      "only showing top 10 rows\n",
      "\n"
     ]
    }
   ],
   "source": [
    "loan_data_df.printSchema()\n",
    "loan_data_df.show(10)"
   ]
  },
  {
   "attachments": {},
   "cell_type": "markdown",
   "metadata": {},
   "source": [
    "Lets see what the unique values are in each of the dataframe columns"
   ]
  },
  {
   "cell_type": "code",
   "execution_count": 10,
   "metadata": {},
   "outputs": [
    {
     "name": "stdout",
     "output_type": "stream",
     "text": [
      "Unique values in column 'Application_Status':\n",
      "Y\n",
      "N\n",
      "\n",
      "Unique values in column 'Credit_History':\n",
      "0\n",
      "1\n",
      "\n",
      "Unique values in column 'Dependents':\n",
      "0\n",
      "1\n",
      "3+\n",
      "2\n",
      "\n",
      "Unique values in column 'Education':\n",
      "Not Graduate\n",
      "Graduate\n",
      "\n",
      "Unique values in column 'Gender':\n",
      "Female\n",
      "Male\n",
      "\n",
      "Unique values in column 'Income':\n",
      "low\n",
      "high\n",
      "medium\n",
      "\n",
      "Unique values in column 'Married':\n",
      "No\n",
      "Yes\n",
      "\n",
      "Unique values in column 'Property_Area':\n",
      "Urban\n",
      "Semiurban\n",
      "Rural\n",
      "\n",
      "Unique values in column 'Self_Employed':\n",
      "No\n",
      "Yes\n",
      "\n"
     ]
    }
   ],
   "source": [
    "for column in loan_data_df.columns:\n",
    "    # skip the first column since that column is all unique\n",
    "    if column == 'Application_ID':\n",
    "        continue\n",
    "    unique_values = loan_data_df.select(column).distinct().collect()\n",
    "    print(f\"Column: {column}\")\n",
    "    for row in unique_values:\n",
    "        print(row[column])\n",
    "    print()"
   ]
  },
  {
   "attachments": {},
   "cell_type": "markdown",
   "metadata": {},
   "source": [
    "Let's create the sql query to create the table."
   ]
  },
  {
   "cell_type": "markdown",
   "metadata": {},
   "source": []
  },
  {
   "cell_type": "code",
   "execution_count": 3,
   "metadata": {},
   "outputs": [],
   "source": [
    "loan_table = (\n",
    "\"CREATE TABLE IF NOT EXISTS `cdw_sapp_loan_application` (\"\n",
    "\"  `ID` CHAR(8) NOT NULL,\"\n",
    "\"  `Gender` VARCHAR(6) NULL,\"\n",
    "\"  `Married` VARCHAR(3) NULL,\"\n",
    "\"  `Dependents` VARCHAR(2) NULL,\"\n",
    "\"  `Education` VARCHAR(12) NULL,\"\n",
    "\"  `Self_Employed` VARCHAR(3) NULL,\" \n",
    "\"  `Credit_History` VARCHAR(1) NULL,\"\n",
    "\"  `Property_Area` VARCHAR(10) NULL,\"\n",
    "\"  `Income` VARCHAR(8) NULL,\"\n",
    "\"  `Application_Status` VARCHAR(1) NULL,\"\n",
    "\"  PRIMARY KEY (`ID`))\"\n",
    "\"ENGINE = InnoDB  \")"
   ]
  },
  {
   "cell_type": "markdown",
   "metadata": {},
   "source": []
  },
  {
   "cell_type": "code",
   "execution_count": 5,
   "metadata": {},
   "outputs": [],
   "source": [
    "# Connect to MySQL\n",
    "conn = msql.connect(host = C.host_name, database = 'creditcard_capstone',\n",
    "                        user = C.user_name, password = C.password)\n",
    "\n",
    "# Create the table\n",
    "cursor = conn.cursor()\n",
    "cursor.execute('DROP TABLE IF EXISTS cdw_sapp_loan_application;')\n",
    "cursor.execute(loan_table)"
   ]
  },
  {
   "cell_type": "code",
   "execution_count": null,
   "metadata": {},
   "outputs": [],
   "source": [
    "mysql_config = {\n",
    "    'host': C.host_name,\n",
    "    'database': 'creditcard_capstone',\n",
    "    'user': C.user_name,\n",
    "    'password': C.password\n",
    "}\n",
    "\n",
    "# Create a Spark session\n",
    "spark = SparkSession.builder.getOrCreate()\n",
    "\n",
    "# Define a function to insert rows into MySQL\n",
    "def insert_row(row):\n",
    "    cnx = msql.connect(**mysql_config)\n",
    "    cursor = cnx.cursor()\n",
    "    \n",
    "    insert_query = \"INSERT INTO cdw_sapp_loan_application VALUES (%s, %s, %s, %s, %s, %s, %s, %s, %s, %s)\"\n",
    "    values = (row.Application_ID, row.Gender, row.Married,\n",
    "              row.Dependents, row.Education, row.Self_Employed,\n",
    "              row.Credit_History, row.Property_Area, row.Income,\n",
    "              row.Application_Status)\n",
    "    \n",
    "    cursor.execute(insert_query, values)\n",
    "    \n",
    "    cnx.commit()\n",
    "    cursor.close()\n",
    "    cnx.close()\n",
    "\n",
    "# Iterate over the PySpark DataFrame and insert rows into MySQL\n",
    "loan_data_df.foreach(insert_row)"
   ]
  },
  {
   "cell_type": "markdown",
   "metadata": {},
   "source": [
    "Let's connect to the database."
   ]
  },
  {
   "cell_type": "code",
   "execution_count": null,
   "metadata": {},
   "outputs": [
    {
     "name": "stdout",
     "output_type": "stream",
     "text": [
      "You're connected to database:  ('creditcard_capstone',)\n"
     ]
    }
   ],
   "source": [
    "try:\n",
    "    conn = msql.connect(host = C.host_name, database = 'creditcard_capstone',\n",
    "                        user = C.user_name, password = C.password)\n",
    "    if conn.is_connected():\n",
    "        cursor = conn.cursor()\n",
    "        cursor.execute(\"select database();\")\n",
    "        record = cursor.fetchone()\n",
    "        print(\"You're connected to database: \", record)\n",
    "except Error as e:\n",
    "    print('Error while connecting to MySQL',e)"
   ]
  }
 ],
 "metadata": {
  "kernelspec": {
   "display_name": "Python 3",
   "language": "python",
   "name": "python3"
  },
  "language_info": {
   "codemirror_mode": {
    "name": "ipython",
    "version": 3
   },
   "file_extension": ".py",
   "mimetype": "text/x-python",
   "name": "python",
   "nbconvert_exporter": "python",
   "pygments_lexer": "ipython3",
   "version": "3.10.7"
  },
  "orig_nbformat": 4
 },
 "nbformat": 4,
 "nbformat_minor": 2
}
