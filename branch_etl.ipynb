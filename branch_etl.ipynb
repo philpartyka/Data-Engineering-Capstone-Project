{
 "cells": [
  {
   "attachments": {},
   "cell_type": "markdown",
   "metadata": {},
   "source": [
    "------------------\n",
    "# Extraction"
   ]
  },
  {
   "cell_type": "code",
   "execution_count": 1,
   "metadata": {},
   "outputs": [],
   "source": [
    "import pyspark\n",
    "import pyspark.sql.functions as F\n",
    "from pyspark.sql import SparkSession\n",
    "spark = SparkSession.builder.appName('branch_etl').getOrCreate()"
   ]
  },
  {
   "attachments": {},
   "cell_type": "markdown",
   "metadata": {},
   "source": [
    "Lets load the first of three json files: cdw_sapp_branch.json"
   ]
  },
  {
   "cell_type": "code",
   "execution_count": 2,
   "metadata": {},
   "outputs": [],
   "source": [
    "branch_df = spark.read.json(\"source_data/cdw_sapp_branch.json\")"
   ]
  },
  {
   "attachments": {},
   "cell_type": "markdown",
   "metadata": {},
   "source": [
    "--------------------------------\n",
    "# Exploratory Analysis\n"
   ]
  },
  {
   "cell_type": "code",
   "execution_count": 3,
   "metadata": {},
   "outputs": [
    {
     "name": "stdout",
     "output_type": "stream",
     "text": [
      "root\n",
      " |-- BRANCH_CITY: string (nullable = true)\n",
      " |-- BRANCH_CODE: long (nullable = true)\n",
      " |-- BRANCH_NAME: string (nullable = true)\n",
      " |-- BRANCH_PHONE: string (nullable = true)\n",
      " |-- BRANCH_STATE: string (nullable = true)\n",
      " |-- BRANCH_STREET: string (nullable = true)\n",
      " |-- BRANCH_ZIP: long (nullable = true)\n",
      " |-- LAST_UPDATED: string (nullable = true)\n",
      "\n",
      "+-----------------+-----------+------------+------------+------------+-----------------+----------+--------------------+\n",
      "|      BRANCH_CITY|BRANCH_CODE| BRANCH_NAME|BRANCH_PHONE|BRANCH_STATE|    BRANCH_STREET|BRANCH_ZIP|        LAST_UPDATED|\n",
      "+-----------------+-----------+------------+------------+------------+-----------------+----------+--------------------+\n",
      "|        Lakeville|          1|Example Bank|  1234565276|          MN|     Bridle Court|     55044|2018-04-18T16:51:...|\n",
      "|          Huntley|          2|Example Bank|  1234618993|          IL|Washington Street|     60142|2018-04-18T16:51:...|\n",
      "|SouthRichmondHill|          3|Example Bank|  1234985926|          NY|    Warren Street|     11419|2018-04-18T16:51:...|\n",
      "|       Middleburg|          4|Example Bank|  1234663064|          FL| Cleveland Street|     32068|2018-04-18T16:51:...|\n",
      "|    KingOfPrussia|          5|Example Bank|  1234849701|          PA|      14th Street|     19406|2018-04-18T16:51:...|\n",
      "|         Paterson|          7|Example Bank|  1234144890|          NJ| Jefferson Street|      7501|2018-04-18T16:51:...|\n",
      "|        Pittsford|          8|Example Bank|  1234678272|          NY|         B Street|     14534|2018-04-18T16:51:...|\n",
      "|     Wethersfield|          9|Example Bank|  1234675219|          CT|  Jefferson Court|      6109|2018-04-18T16:51:...|\n",
      "|     NorthOlmsted|         10|Example Bank|  1234145047|          OH|   Cambridge Road|     44070|2018-04-18T16:51:...|\n",
      "|     Hillsborough|         11|Example Bank|  1234366354|          NJ|  3rd Street West|      8844|2018-04-18T16:51:...|\n",
      "|   MadisonHeights|         12|Example Bank|  1234867175|          MI|        Mill Road|     48071|2018-04-18T16:51:...|\n",
      "|           Oviedo|         14|Example Bank|  1234938460|          FL|Washington Street|     32765|2018-04-18T16:51:...|\n",
      "|    Mechanicsburg|         15|Example Bank|  1234462043|          PA|  Chestnut Street|     17050|2018-04-18T16:51:...|\n",
      "|        Plainview|         16|Example Bank|  1234857525|          NY|     Monroe Drive|     11803|2018-04-18T16:51:...|\n",
      "|          Paducah|         17|Example Bank|  1234546360|          KY|  Railroad Street|     42001|2018-04-18T16:51:...|\n",
      "+-----------------+-----------+------------+------------+------------+-----------------+----------+--------------------+\n",
      "only showing top 15 rows\n",
      "\n"
     ]
    }
   ],
   "source": [
    "branch_df.printSchema()\n",
    "branch_df.show(15)"
   ]
  },
  {
   "attachments": {},
   "cell_type": "markdown",
   "metadata": {},
   "source": [
    "How many rows do we have in total in this dataframe?"
   ]
  },
  {
   "cell_type": "code",
   "execution_count": 4,
   "metadata": {},
   "outputs": [
    {
     "data": {
      "text/plain": [
       "115"
      ]
     },
     "execution_count": 4,
     "metadata": {},
     "output_type": "execute_result"
    }
   ],
   "source": [
    "branch_df.count()"
   ]
  },
  {
   "attachments": {},
   "cell_type": "markdown",
   "metadata": {},
   "source": [
    "Let's see if the first 3 numbers of the phone numbers for the branches are all '123'"
   ]
  },
  {
   "cell_type": "code",
   "execution_count": 5,
   "metadata": {},
   "outputs": [
    {
     "name": "stdout",
     "output_type": "stream",
     "text": [
      "+-----------+-----+\n",
      "|first_phone|count|\n",
      "+-----------+-----+\n",
      "|        123|  115|\n",
      "+-----------+-----+\n",
      "\n"
     ]
    }
   ],
   "source": [
    "new_df = branch_df.withColumn(\"first_phone\", F.substring(\"BRANCH_PHONE\",0,3))\n",
    "new_df.groupBy('first_phone').count().orderBy('count').show()"
   ]
  },
  {
   "attachments": {},
   "cell_type": "markdown",
   "metadata": {},
   "source": [
    "Seems like 123 is the area code for all the phone numbers.  Now lets see if there is a different branch name than 'Example Bank'."
   ]
  },
  {
   "cell_type": "code",
   "execution_count": 6,
   "metadata": {},
   "outputs": [
    {
     "name": "stdout",
     "output_type": "stream",
     "text": [
      "+------------+-----+\n",
      "| BRANCH_NAME|count|\n",
      "+------------+-----+\n",
      "|Example Bank|  115|\n",
      "+------------+-----+\n",
      "\n"
     ]
    }
   ],
   "source": [
    "branch_df.groupBy('BRANCH_NAME').count().orderBy('count').show()"
   ]
  },
  {
   "attachments": {},
   "cell_type": "markdown",
   "metadata": {},
   "source": [
    "Let's see if all the Branch Cities and codes are unique."
   ]
  },
  {
   "cell_type": "code",
   "execution_count": 7,
   "metadata": {},
   "outputs": [
    {
     "name": "stdout",
     "output_type": "stream",
     "text": [
      "+---------------------------+\n",
      "|count(DISTINCT BRANCH_CITY)|\n",
      "+---------------------------+\n",
      "|                        115|\n",
      "+---------------------------+\n",
      "\n",
      "+---------------------------+\n",
      "|count(DISTINCT BRANCH_CODE)|\n",
      "+---------------------------+\n",
      "|                        115|\n",
      "+---------------------------+\n",
      "\n"
     ]
    }
   ],
   "source": [
    "branch_df.select(F.countDistinct(\"BRANCH_CITY\")).show()\n",
    "branch_df.select(F.countDistinct(\"BRANCH_CODE\")).show()"
   ]
  },
  {
   "attachments": {},
   "cell_type": "markdown",
   "metadata": {},
   "source": [
    "Looks like all our Branch cities and branch codes are unique.  Now, it looks like theres some zipcodes that are incomplete.  Lets see which ones have less than 5 numbers."
   ]
  },
  {
   "cell_type": "code",
   "execution_count": 8,
   "metadata": {},
   "outputs": [
    {
     "name": "stdout",
     "output_type": "stream",
     "text": [
      "+------------+------------+----------+\n",
      "| BRANCH_CITY|BRANCH_STATE|BRANCH_ZIP|\n",
      "+------------+------------+----------+\n",
      "|    Paterson|          NJ|      7501|\n",
      "|Wethersfield|          CT|      6109|\n",
      "|Hillsborough|          NJ|      8844|\n",
      "|     Medford|          MA|      2155|\n",
      "|    Rockaway|          NJ|      7866|\n",
      "|  LongBranch|          NJ|      7740|\n",
      "|   Irvington|          NJ|      7111|\n",
      "|    NewHaven|          CT|      6511|\n",
      "|      Quincy|          MA|      2169|\n",
      "+------------+------------+----------+\n",
      "\n"
     ]
    }
   ],
   "source": [
    "branch_df.select('BRANCH_CITY', 'BRANCH_STATE','BRANCH_ZIP')\\\n",
    "    .where(F.length(branch_df[\"BRANCH_ZIP\"]) < 5).show()"
   ]
  },
  {
   "attachments": {},
   "cell_type": "markdown",
   "metadata": {},
   "source": [
    "After googling the accurate zip code for Paterson, NJ it seems like the leading 0 was dropped.  Instead of \"7501\", it should have been \"07501\".  Glancing at the other states on this list I can conclude, based on my experience with zip codes, that the other entries have the issue with a dropped leading 0.  All of those state's zip codes start with a 0.\n",
    "\n"
   ]
  },
  {
   "attachments": {},
   "cell_type": "markdown",
   "metadata": {},
   "source": [
    "---------------------------\n",
    "# Transform"
   ]
  },
  {
   "attachments": {},
   "cell_type": "markdown",
   "metadata": {},
   "source": [
    "Let's add a leading 0 to all the zip codes with only 4 digits and whose states are either NJ, CT, NH, MA, VT, RI, or ME."
   ]
  },
  {
   "cell_type": "code",
   "execution_count": 9,
   "metadata": {},
   "outputs": [],
   "source": [
    "branch_df = branch_df.withColumn('BRANCH_ZIP',\\\n",
    "                    F.when((F.length(branch_df['BRANCH_ZIP']) == 4) &\n",
    "                        branch_df['BRANCH_STATE'].isin([\"NJ\", \"CT\", \"NH\", \"MA\", \"VT\", \"RI\", \"ME\"]),\n",
    "                    F.format_string(\"0%s\",branch_df['BRANCH_ZIP']))\\\n",
    "                    .otherwise(branch_df[\"BRANCH_ZIP\"]))"
   ]
  },
  {
   "attachments": {},
   "cell_type": "markdown",
   "metadata": {},
   "source": [
    "Let's see if all the zip codes are 5 digits long now."
   ]
  },
  {
   "cell_type": "code",
   "execution_count": 10,
   "metadata": {},
   "outputs": [
    {
     "name": "stdout",
     "output_type": "stream",
     "text": [
      "+-------+-----+\n",
      "|zip_len|count|\n",
      "+-------+-----+\n",
      "|      5|  115|\n",
      "+-------+-----+\n",
      "\n"
     ]
    }
   ],
   "source": [
    "branch_df.withColumn(\"zip_len\", F.length(branch_df[\"BRANCH_ZIP\"]))\\\n",
    "    .groupBy(\"zip_len\").count().show()"
   ]
  },
  {
   "attachments": {},
   "cell_type": "markdown",
   "metadata": {},
   "source": [
    "The requirements state that if the zip code is a null value then we should change it to 99999.  Since we don't have any zip codes that are less than 4 digits long nor do we have any missing or null zip codes, we will assign either case to display \"99999\" if the situation arises."
   ]
  },
  {
   "cell_type": "code",
   "execution_count": 11,
   "metadata": {},
   "outputs": [],
   "source": [
    "branch_df = branch_df.withColumn('BRANCH_ZIP',\n",
    "                    F.when((F.length(branch_df['BRANCH_ZIP']) < 4) |\n",
    "                        branch_df['BRANCH_ZIP'].isNull(),\"99999\")\\\n",
    "                    .otherwise(branch_df[\"BRANCH_ZIP\"]))"
   ]
  },
  {
   "attachments": {},
   "cell_type": "markdown",
   "metadata": {},
   "source": [
    "Let's change the phone number to a (XXX)XXX-XXXX format."
   ]
  },
  {
   "cell_type": "code",
   "execution_count": 12,
   "metadata": {},
   "outputs": [],
   "source": [
    "branch_df = branch_df.withColumn('BRANCH_PHONE',\n",
    "            F.format_string(\"(%s)%s-%s\", branch_df['BRANCH_PHONE'][0:3],\n",
    "            branch_df['BRANCH_PHONE'][4:3],branch_df['BRANCH_PHONE'][7:4]))"
   ]
  },
  {
   "attachments": {},
   "cell_type": "markdown",
   "metadata": {},
   "source": [
    "The city names don't have spaces in them when necessary so lets change that."
   ]
  },
  {
   "cell_type": "code",
   "execution_count": 13,
   "metadata": {},
   "outputs": [],
   "source": [
    "branch_df = branch_df.withColumn('BRANCH_CITY', \n",
    "        F.regexp_replace(branch_df['BRANCH_CITY'], \"(?<=.)([A-Z])\", ' $1'))\n",
    "\n",
    "#(?<=.) is a positive lookbehind.  It checks if there is any character behind ([A-Z]).  Don't\n",
    "#want to match the capital letters in the beginning of the string.\n",
    "#([A-Z]) looks for any capital letter.  In parantheses because we want to capture this group.\n",
    "#' $1' Blank space plus the first, and only, captured group. aka this returns the matched \n",
    "#capital letter, otherwise the matched capital letter would have been replaced."
   ]
  },
  {
   "attachments": {},
   "cell_type": "markdown",
   "metadata": {},
   "source": [
    "Ok, it looks cleaned up."
   ]
  },
  {
   "cell_type": "code",
   "execution_count": 14,
   "metadata": {},
   "outputs": [
    {
     "name": "stdout",
     "output_type": "stream",
     "text": [
      "+-------------------+-----------+------------+-------------+------------+-------------------+----------+--------------------+\n",
      "|        BRANCH_CITY|BRANCH_CODE| BRANCH_NAME| BRANCH_PHONE|BRANCH_STATE|      BRANCH_STREET|BRANCH_ZIP|        LAST_UPDATED|\n",
      "+-------------------+-----------+------------+-------------+------------+-------------------+----------+--------------------+\n",
      "|          Lakeville|          1|Example Bank|(123)456-5276|          MN|       Bridle Court|     55044|2018-04-18T16:51:...|\n",
      "|            Huntley|          2|Example Bank|(123)461-8993|          IL|  Washington Street|     60142|2018-04-18T16:51:...|\n",
      "|South Richmond Hill|          3|Example Bank|(123)498-5926|          NY|      Warren Street|     11419|2018-04-18T16:51:...|\n",
      "|         Middleburg|          4|Example Bank|(123)466-3064|          FL|   Cleveland Street|     32068|2018-04-18T16:51:...|\n",
      "|    King Of Prussia|          5|Example Bank|(123)484-9701|          PA|        14th Street|     19406|2018-04-18T16:51:...|\n",
      "|           Paterson|          7|Example Bank|(123)414-4890|          NJ|   Jefferson Street|     07501|2018-04-18T16:51:...|\n",
      "|          Pittsford|          8|Example Bank|(123)467-8272|          NY|           B Street|     14534|2018-04-18T16:51:...|\n",
      "|       Wethersfield|          9|Example Bank|(123)467-5219|          CT|    Jefferson Court|     06109|2018-04-18T16:51:...|\n",
      "|      North Olmsted|         10|Example Bank|(123)414-5047|          OH|     Cambridge Road|     44070|2018-04-18T16:51:...|\n",
      "|       Hillsborough|         11|Example Bank|(123)436-6354|          NJ|    3rd Street West|     08844|2018-04-18T16:51:...|\n",
      "|    Madison Heights|         12|Example Bank|(123)486-7175|          MI|          Mill Road|     48071|2018-04-18T16:51:...|\n",
      "|             Oviedo|         14|Example Bank|(123)493-8460|          FL|  Washington Street|     32765|2018-04-18T16:51:...|\n",
      "|      Mechanicsburg|         15|Example Bank|(123)446-2043|          PA|    Chestnut Street|     17050|2018-04-18T16:51:...|\n",
      "|          Plainview|         16|Example Bank|(123)485-7525|          NY|       Monroe Drive|     11803|2018-04-18T16:51:...|\n",
      "|            Paducah|         17|Example Bank|(123)454-6360|          KY|    Railroad Street|     42001|2018-04-18T16:51:...|\n",
      "|       Harleysville|         18|Example Bank|(123)482-4455|          PA|Church Street South|     19438|2018-04-18T16:51:...|\n",
      "|      Silver Spring|         19|Example Bank|(123)448-4380|          MD|        King Street|     20901|2018-04-18T16:51:...|\n",
      "|         Burnsville|         20|Example Bank|(123)484-0138|          MN|   Canterbury Drive|     55337|2018-04-18T16:51:...|\n",
      "|             Tacoma|         21|Example Bank|(123)436-2433|          WA|         2nd Avenue|     98444|2018-04-18T16:51:...|\n",
      "|           Carlisle|         22|Example Bank|(123)492-2492|          PA| Front Street South|     17013|2018-04-18T16:51:...|\n",
      "+-------------------+-----------+------------+-------------+------------+-------------------+----------+--------------------+\n",
      "only showing top 20 rows\n",
      "\n"
     ]
    }
   ],
   "source": [
    "branch_df.show()"
   ]
  },
  {
   "attachments": {},
   "cell_type": "markdown",
   "metadata": {},
   "source": [
    "Lets export this data so we can load it into a database.  \n",
    "\n",
    "Spark was giving me an error when I tried to save the spark dataframe to a json file so I converted it to a pandas dataframe and saved it using a pandas method."
   ]
  },
  {
   "cell_type": "code",
   "execution_count": 15,
   "metadata": {},
   "outputs": [],
   "source": [
    "pandas_df = branch_df.toPandas()\n",
    "pandas_df.to_json('clean_data/branch.json')"
   ]
  }
 ],
 "metadata": {
  "kernelspec": {
   "display_name": "Python 3",
   "language": "python",
   "name": "python3"
  },
  "language_info": {
   "codemirror_mode": {
    "name": "ipython",
    "version": 3
   },
   "file_extension": ".py",
   "mimetype": "text/x-python",
   "name": "python",
   "nbconvert_exporter": "python",
   "pygments_lexer": "ipython3",
   "version": "3.10.7"
  },
  "orig_nbformat": 4
 },
 "nbformat": 4,
 "nbformat_minor": 2
}
