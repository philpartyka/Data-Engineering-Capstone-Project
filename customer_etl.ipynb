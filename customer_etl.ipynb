{
 "cells": [
  {
   "attachments": {},
   "cell_type": "markdown",
   "metadata": {},
   "source": [
    "------------------\n",
    "# Extraction"
   ]
  },
  {
   "cell_type": "code",
   "execution_count": 1,
   "metadata": {},
   "outputs": [],
   "source": [
    "import pyspark\n",
    "import pyspark.sql.functions as F\n",
    "from pyspark.sql import SparkSession\n",
    "spark = SparkSession.builder.appName('customer_etl').getOrCreate()"
   ]
  },
  {
   "attachments": {},
   "cell_type": "markdown",
   "metadata": {},
   "source": [
    "Let's load cdw_sapp_custmer.json"
   ]
  },
  {
   "cell_type": "code",
   "execution_count": 2,
   "metadata": {},
   "outputs": [],
   "source": [
    "cust_df = spark.read.json(\"source_data/cdw_sapp_custmer.json\")"
   ]
  },
  {
   "attachments": {},
   "cell_type": "markdown",
   "metadata": {},
   "source": [
    "--------------------------------\n",
    "# Exploratory Analysis"
   ]
  },
  {
   "cell_type": "code",
   "execution_count": 3,
   "metadata": {},
   "outputs": [
    {
     "name": "stdout",
     "output_type": "stream",
     "text": [
      "root\n",
      " |-- APT_NO: string (nullable = true)\n",
      " |-- CREDIT_CARD_NO: string (nullable = true)\n",
      " |-- CUST_CITY: string (nullable = true)\n",
      " |-- CUST_COUNTRY: string (nullable = true)\n",
      " |-- CUST_EMAIL: string (nullable = true)\n",
      " |-- CUST_PHONE: long (nullable = true)\n",
      " |-- CUST_STATE: string (nullable = true)\n",
      " |-- CUST_ZIP: string (nullable = true)\n",
      " |-- FIRST_NAME: string (nullable = true)\n",
      " |-- LAST_NAME: string (nullable = true)\n",
      " |-- LAST_UPDATED: string (nullable = true)\n",
      " |-- MIDDLE_NAME: string (nullable = true)\n",
      " |-- SSN: long (nullable = true)\n",
      " |-- STREET_NAME: string (nullable = true)\n",
      "\n",
      "+------+----------------+------------+-------------+--------------------+----------+----------+--------+----------+---------+--------------------+-----------+---------+-----------------+\n",
      "|APT_NO|  CREDIT_CARD_NO|   CUST_CITY| CUST_COUNTRY|          CUST_EMAIL|CUST_PHONE|CUST_STATE|CUST_ZIP|FIRST_NAME|LAST_NAME|        LAST_UPDATED|MIDDLE_NAME|      SSN|      STREET_NAME|\n",
      "+------+----------------+------------+-------------+--------------------+----------+----------+--------+----------+---------+--------------------+-----------+---------+-----------------+\n",
      "|   656|4210653310061055|     Natchez|United States| AHooper@example.com|   1237818|        MS|   39120|      Alec|   Hooper|2018-04-21T12:49:...|         Wm|123456100|Main Street North|\n",
      "|   829|4210653310102868|Wethersfield|United States| EHolman@example.com|   1238933|        CT|   06109|      Etta|   Holman|2018-04-21T12:49:...|    Brendan|123453023|    Redwood Drive|\n",
      "|   683|4210653310116272|     Huntley|United States| WDunham@example.com|   1243018|        IL|   60142|    Wilber|   Dunham|2018-04-21T12:49:...|   Ezequiel|123454487| 12th Street East|\n",
      "|   253|4210653310195948|   NewBerlin|United States|  EHardy@example.com|   1243215|        WI|   53151|   Eugenio|    Hardy|2018-04-21T12:49:...|      Trina|123459758|Country Club Road|\n",
      "|   301|4210653310356919|      ElPaso|United States|  WAyers@example.com|   1242074|        TX|   79930|   Wilfred|    Ayers|2018-04-21T12:49:...|        May|123454431|   Madison Street|\n",
      "|     3|4210653310395982|NorthOlmsted|United States|BWoodard@example.com|   1242570|        OH|   44070|      Beau|  Woodard|2018-04-21T12:49:...|    Ambrose|123454202|   Colonial Drive|\n",
      "|    84|4210653310400536|      Vienna|United States|   SKemp@example.com|   1239685|        VA|   22180|    Sheila|     Kemp|2018-04-21T12:49:...|      Larry|123451799|   Belmont Avenue|\n",
      "|   728|4210653310459911|      Duarte|United States| WHurley@example.com|   1238213|        CA|   91010|     Wendy|   Hurley|2018-04-21T12:49:...|        Ora|123453875|     Oxford Court|\n",
      "|    81|4210653310773972|      Owosso|United States|AGilmore@example.com|   1240689|        MI|   48867|      Alec|  Gilmore|2018-04-21T12:49:...|     Tracie|123457511|    Forest Street|\n",
      "|   561|4210653310794854|        Zion|United States|    BLau@example.com|   1235222|        IL|   60099|    Barbra|      Lau|2018-04-21T12:49:...|    Mitchel|123457464|     Court Street|\n",
      "+------+----------------+------------+-------------+--------------------+----------+----------+--------+----------+---------+--------------------+-----------+---------+-----------------+\n",
      "only showing top 10 rows\n",
      "\n"
     ]
    }
   ],
   "source": [
    "cust_df.printSchema()\n",
    "cust_df.show(10)"
   ]
  },
  {
   "attachments": {},
   "cell_type": "markdown",
   "metadata": {},
   "source": [
    "How many rows do we have in total in this dataframe?"
   ]
  },
  {
   "cell_type": "code",
   "execution_count": 4,
   "metadata": {},
   "outputs": [
    {
     "data": {
      "text/plain": [
       "952"
      ]
     },
     "execution_count": 4,
     "metadata": {},
     "output_type": "execute_result"
    }
   ],
   "source": [
    "cust_df.count()"
   ]
  },
  {
   "attachments": {},
   "cell_type": "markdown",
   "metadata": {},
   "source": [
    "Let's rearrange the columns so they make a bit more sense when looking at them."
   ]
  },
  {
   "cell_type": "code",
   "execution_count": 5,
   "metadata": {},
   "outputs": [
    {
     "name": "stdout",
     "output_type": "stream",
     "text": [
      "+----------------+---------+-------------------+----------+----------+-----------+---------+------+-----------------+------------+--------+----------+-------------+--------------------+\n",
      "|  CREDIT_CARD_NO|      SSN|         CUST_EMAIL|CUST_PHONE|FIRST_NAME|MIDDLE_NAME|LAST_NAME|APT_NO|      STREET_NAME|   CUST_CITY|CUST_ZIP|CUST_STATE| CUST_COUNTRY|        LAST_UPDATED|\n",
      "+----------------+---------+-------------------+----------+----------+-----------+---------+------+-----------------+------------+--------+----------+-------------+--------------------+\n",
      "|4210653310061055|123456100|AHooper@example.com|   1237818|      Alec|         Wm|   Hooper|   656|Main Street North|     Natchez|   39120|        MS|United States|2018-04-21T12:49:...|\n",
      "|4210653310102868|123453023|EHolman@example.com|   1238933|      Etta|    Brendan|   Holman|   829|    Redwood Drive|Wethersfield|   06109|        CT|United States|2018-04-21T12:49:...|\n",
      "|4210653310116272|123454487|WDunham@example.com|   1243018|    Wilber|   Ezequiel|   Dunham|   683| 12th Street East|     Huntley|   60142|        IL|United States|2018-04-21T12:49:...|\n",
      "|4210653310195948|123459758| EHardy@example.com|   1243215|   Eugenio|      Trina|    Hardy|   253|Country Club Road|   NewBerlin|   53151|        WI|United States|2018-04-21T12:49:...|\n",
      "|4210653310356919|123454431| WAyers@example.com|   1242074|   Wilfred|        May|    Ayers|   301|   Madison Street|      ElPaso|   79930|        TX|United States|2018-04-21T12:49:...|\n",
      "+----------------+---------+-------------------+----------+----------+-----------+---------+------+-----------------+------------+--------+----------+-------------+--------------------+\n",
      "only showing top 5 rows\n",
      "\n"
     ]
    }
   ],
   "source": [
    "cust_df = cust_df.select('CREDIT_CARD_NO', 'SSN', 'CUST_EMAIL', 'CUST_PHONE',\\\n",
    "            'FIRST_NAME','MIDDLE_NAME', 'LAST_NAME', 'APT_NO', 'STREET_NAME',\\\n",
    "            'CUST_CITY', 'CUST_ZIP', 'CUST_STATE', 'CUST_COUNTRY', 'LAST_UPDATED')\n",
    "\n",
    "cust_df.show(5)"
   ]
  },
  {
   "cell_type": "code",
   "execution_count": 6,
   "metadata": {},
   "outputs": [
    {
     "name": "stdout",
     "output_type": "stream",
     "text": [
      "+-------+--------------------+--------------------+--------------------+------------------+----------+-----------+---------+------------------+-----------+---------+------------------+----------+-------------+--------------------+\n",
      "|summary|      CREDIT_CARD_NO|                 SSN|          CUST_EMAIL|        CUST_PHONE|FIRST_NAME|MIDDLE_NAME|LAST_NAME|            APT_NO|STREET_NAME|CUST_CITY|          CUST_ZIP|CUST_STATE| CUST_COUNTRY|        LAST_UPDATED|\n",
      "+-------+--------------------+--------------------+--------------------+------------------+----------+-----------+---------+------------------+-----------+---------+------------------+----------+-------------+--------------------+\n",
      "|  count|                 952|                 952|                 952|               952|       952|        952|      952|               952|        952|      952|               952|       952|          952|                 952|\n",
      "|   mean|4.210653353718597...|1.2345552588130252E8|                null|1239196.6649159663|      null|       null|     null| 507.3382352941176|       null|     null|36312.616596638654|      null|         null|                null|\n",
      "| stddev| 2.576300828101659E7|  2561.1858044909427|                null| 2612.648026005403|      null|       null|     null|287.20283977678935|       null|     null| 23945.49431677531|      null|         null|                null|\n",
      "|    min|    4210653310061055|           123451007|AAguilar@example.com|           1234574|      Abby|       Abby|   Abbott|                 1|10th Street|  Acworth|             01810|        AL|United States|2018-04-21T12:49:...|\n",
      "|    max|    4210653399939240|           123459988|ZStratton@example...|           1243558|     Zelma|    Zachary|   Zapata|               998|York Street|     Zion|             98908|        WI|United States|2018-04-21T12:49:...|\n",
      "+-------+--------------------+--------------------+--------------------+------------------+----------+-----------+---------+------------------+-----------+---------+------------------+----------+-------------+--------------------+\n",
      "\n"
     ]
    }
   ],
   "source": [
    "cust_df.describe().show()"
   ]
  },
  {
   "attachments": {},
   "cell_type": "markdown",
   "metadata": {},
   "source": [
    "From the above summary we can see that the credit card numbers are all 16 digits long, SSN numbers are all 9 digits long, zip codes are all 5 digits long, and all the customers are from the United States.  The only issue is that the phone numbers are only 7 digits long but should be 10 digits. "
   ]
  },
  {
   "attachments": {},
   "cell_type": "markdown",
   "metadata": {},
   "source": [
    "It seems like the CUST_ZIP and CUST_STATE columns are in string format so the min and max values might only consider the first character when considering order of values.  Lets confirm that the states are 2 characters in length and the zip codes are all 5 digits long."
   ]
  },
  {
   "cell_type": "code",
   "execution_count": 7,
   "metadata": {},
   "outputs": [
    {
     "name": "stdout",
     "output_type": "stream",
     "text": [
      "+-------+-----+\n",
      "|zip_len|count|\n",
      "+-------+-----+\n",
      "|      5|  952|\n",
      "+-------+-----+\n",
      "\n",
      "+---------+-----+\n",
      "|state_len|count|\n",
      "+---------+-----+\n",
      "|        2|  952|\n",
      "+---------+-----+\n",
      "\n"
     ]
    }
   ],
   "source": [
    "cust_df.withColumn(\"zip_len\", F.length(cust_df[\"CUST_ZIP\"]))\\\n",
    "    .groupBy(\"zip_len\").count().show()\n",
    "\n",
    "cust_df.withColumn(\"state_len\", F.length(cust_df[\"CUST_STATE\"]))\\\n",
    "    .groupBy(\"state_len\").count().show()"
   ]
  },
  {
   "attachments": {},
   "cell_type": "markdown",
   "metadata": {},
   "source": [
    "Lets make sure the emails are all valid. All have a \"@\" and a \".\" (for example, \".com\") and no blank spaces."
   ]
  },
  {
   "cell_type": "code",
   "execution_count": 8,
   "metadata": {},
   "outputs": [
    {
     "name": "stdout",
     "output_type": "stream",
     "text": [
      "+----------+\n",
      "|CUST_EMAIL|\n",
      "+----------+\n",
      "+----------+\n",
      "\n"
     ]
    }
   ],
   "source": [
    "email_filter_df = cust_df.filter(~F.col('CUST_EMAIL').rlike('^\\S+@\\S+\\.\\S+$'))\n",
    "email_filter_df.select('CUST_EMAIL').show()\n",
    "\n",
    "#^\\S+@\\S+\\.\\S+$ checks to see if the string is a valid email address.  the \"^\\S+\" checks\n",
    "#if there are one or more non-whitespace characters at the start of the string.  Can't have\n",
    "#blank spaces in an email address. The ^ is necessary because \"ex ample@example.com\" would be\n",
    "#a match on \"ample@example.com\".  We check for \"@\" with one or more non-whitespace character after it\n",
    "#followed by a \".\" (\\. needs to be used because just a \".\" in regex matches to any single character).\n",
    "#Finished off by \"\\S+$\" which matches one or more non-whitespace characters that end the string.  \n",
    "#The \"$\" is necessary for the same reason that the \"^\" is necessary."
   ]
  },
  {
   "attachments": {},
   "cell_type": "markdown",
   "metadata": {},
   "source": [
    "Let's make sure all the CC numbers, SSNs, Phone numbers, and Emails are unique."
   ]
  },
  {
   "cell_type": "code",
   "execution_count": 9,
   "metadata": {},
   "outputs": [
    {
     "name": "stdout",
     "output_type": "stream",
     "text": [
      "+------------------------------+\n",
      "|count(DISTINCT CREDIT_CARD_NO)|\n",
      "+------------------------------+\n",
      "|                           952|\n",
      "+------------------------------+\n",
      "\n",
      "+-------------------+\n",
      "|count(DISTINCT SSN)|\n",
      "+-------------------+\n",
      "|                952|\n",
      "+-------------------+\n",
      "\n",
      "+--------------------------+\n",
      "|count(DISTINCT CUST_PHONE)|\n",
      "+--------------------------+\n",
      "|                       901|\n",
      "+--------------------------+\n",
      "\n",
      "+--------------------------+\n",
      "|count(DISTINCT CUST_EMAIL)|\n",
      "+--------------------------+\n",
      "|                       928|\n",
      "+--------------------------+\n",
      "\n"
     ]
    }
   ],
   "source": [
    "cust_df.select(F.countDistinct(\"CREDIT_CARD_NO\")).show()\n",
    "cust_df.select(F.countDistinct(\"SSN\")).show()\n",
    "cust_df.select(F.countDistinct(\"CUST_PHONE\")).show()\n",
    "cust_df.select(F.countDistinct(\"CUST_EMAIL\")).show()"
   ]
  },
  {
   "attachments": {},
   "cell_type": "markdown",
   "metadata": {},
   "source": [
    "Hmmm, the Phone numbers and email don't seem to be unique.  Let's explore further."
   ]
  },
  {
   "cell_type": "code",
   "execution_count": 10,
   "metadata": {},
   "outputs": [
    {
     "name": "stdout",
     "output_type": "stream",
     "text": [
      "+----------+-----+\n",
      "|CUST_PHONE|count|\n",
      "+----------+-----+\n",
      "|   1241898|    3|\n",
      "|   1236886|    3|\n",
      "|   1237294|    3|\n",
      "|   1243382|    2|\n",
      "|   1239063|    2|\n",
      "|   1240382|    2|\n",
      "|   1243093|    2|\n",
      "|   1243459|    2|\n",
      "|   1238707|    2|\n",
      "|   1242999|    2|\n",
      "|   1235756|    2|\n",
      "|   1242026|    2|\n",
      "|   1240817|    2|\n",
      "|   1235508|    2|\n",
      "|   1236877|    2|\n",
      "|   1240229|    2|\n",
      "|   1243066|    2|\n",
      "|   1236672|    2|\n",
      "|   1240046|    2|\n",
      "|   1242677|    2|\n",
      "+----------+-----+\n",
      "only showing top 20 rows\n",
      "\n"
     ]
    }
   ],
   "source": [
    "cust_df.groupBy('CUST_PHONE').count().orderBy(F.col('count').desc()).show()"
   ]
  },
  {
   "attachments": {},
   "cell_type": "markdown",
   "metadata": {},
   "source": [
    "Let's look at a sample phone number to see if any of the other customer info overlaps."
   ]
  },
  {
   "cell_type": "code",
   "execution_count": 11,
   "metadata": {},
   "outputs": [
    {
     "name": "stdout",
     "output_type": "stream",
     "text": [
      "+----------------+---------+--------------------+----------+----------+-----------+---------+------+--------------+---------+--------+----------+-------------+--------------------+\n",
      "|  CREDIT_CARD_NO|      SSN|          CUST_EMAIL|CUST_PHONE|FIRST_NAME|MIDDLE_NAME|LAST_NAME|APT_NO|   STREET_NAME|CUST_CITY|CUST_ZIP|CUST_STATE| CUST_COUNTRY|        LAST_UPDATED|\n",
      "+----------------+---------+--------------------+----------+----------+-----------+---------+------+--------------+---------+--------+----------+-------------+--------------------+\n",
      "|4210653315752398|123455638|FMeredith@example...|   1236886|   Francis|    Donnell| Meredith|   417|Lincoln Street| Wilmette|   60091|        IL|United States|2018-04-21T12:49:...|\n",
      "|4210653352401004|123456941|  EWells@example.com|   1236886|     Edwin|      Alice|    Wells|   890|    5th Avenue|Mundelein|   60060|        IL|United States|2018-04-21T12:49:...|\n",
      "|4210653399859149|123454047| EBeatty@example.com|   1236886|     Emery|    Susanna|   Beatty|    15|    8th Street|  Rowlett|   75088|        TX|United States|2018-04-21T12:49:...|\n",
      "+----------------+---------+--------------------+----------+----------+-----------+---------+------+--------------+---------+--------+----------+-------------+--------------------+\n",
      "\n"
     ]
    }
   ],
   "source": [
    "cust_df.where(cust_df['CUST_PHONE'] == '1236886').show()"
   ]
  },
  {
   "attachments": {},
   "cell_type": "markdown",
   "metadata": {},
   "source": [
    "Seems like 3 different people have the same number. I would consider using an area code that corresponds to the customer's location but in this example two of the customers are in the same state and fall under the same area code."
   ]
  }
 ],
 "metadata": {
  "kernelspec": {
   "display_name": "Python 3",
   "language": "python",
   "name": "python3"
  },
  "language_info": {
   "codemirror_mode": {
    "name": "ipython",
    "version": 3
   },
   "file_extension": ".py",
   "mimetype": "text/x-python",
   "name": "python",
   "nbconvert_exporter": "python",
   "pygments_lexer": "ipython3",
   "version": "3.10.7"
  },
  "orig_nbformat": 4
 },
 "nbformat": 4,
 "nbformat_minor": 2
}
