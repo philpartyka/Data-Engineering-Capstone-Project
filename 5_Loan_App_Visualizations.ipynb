{
 "cells": [
  {
   "cell_type": "code",
   "execution_count": 4,
   "metadata": {},
   "outputs": [],
   "source": [
    "import pandas as pd\n",
    "import mysql.connector as msql\n",
    "from mysql.connector import Error\n",
    "# This file contains our login information for the MySQL server\n",
    "import credentials as C"
   ]
  },
  {
   "attachments": {},
   "cell_type": "markdown",
   "metadata": {},
   "source": [
    "# Find and plot the percentage of applications approved for self-employed applicants."
   ]
  },
  {
   "attachments": {},
   "cell_type": "markdown",
   "metadata": {},
   "source": [
    "Lets pull the data from the db to see what we're working with.  Lets connect to the db first."
   ]
  },
  {
   "cell_type": "code",
   "execution_count": 5,
   "metadata": {},
   "outputs": [
    {
     "name": "stdout",
     "output_type": "stream",
     "text": [
      "You're connected to database:  ('creditcard_capstone',)\n"
     ]
    }
   ],
   "source": [
    "try:\n",
    "    global conn\n",
    "    conn = msql.connect(host = C.host_name, database = 'creditcard_capstone', \n",
    "                        user = C.user_name, password = C.password)\n",
    "    if conn.is_connected():\n",
    "        cursor = conn.cursor()\n",
    "        cursor.execute(\"select database();\")\n",
    "        record = cursor.fetchone()\n",
    "        print(\"You're connected to database: \", record)\n",
    "except Error as e:\n",
    "    print('Error while connecting to MySQL',e)"
   ]
  },
  {
   "cell_type": "code",
   "execution_count": 6,
   "metadata": {},
   "outputs": [
    {
     "data": {
      "text/plain": [
       "[('Y',),\n",
       " ('Y',),\n",
       " ('Y',),\n",
       " ('N',),\n",
       " ('Y',),\n",
       " ('N',),\n",
       " ('N',),\n",
       " ('Y',),\n",
       " ('Y',),\n",
       " ('Y',),\n",
       " ('N',),\n",
       " ('Y',),\n",
       " ('Y',),\n",
       " ('N',),\n",
       " ('Y',),\n",
       " ('Y',),\n",
       " ('Y',),\n",
       " ('Y',),\n",
       " ('N',),\n",
       " ('Y',),\n",
       " ('N',),\n",
       " ('N',),\n",
       " ('Y',),\n",
       " ('Y',),\n",
       " ('Y',),\n",
       " ('Y',),\n",
       " ('N',),\n",
       " ('Y',),\n",
       " ('N',),\n",
       " ('Y',),\n",
       " ('N',),\n",
       " ('N',),\n",
       " ('N',),\n",
       " ('N',),\n",
       " ('Y',),\n",
       " ('Y',),\n",
       " ('N',),\n",
       " ('Y',),\n",
       " ('Y',),\n",
       " ('Y',),\n",
       " ('Y',),\n",
       " ('N',),\n",
       " ('N',),\n",
       " ('N',),\n",
       " ('Y',),\n",
       " ('N',),\n",
       " ('Y',),\n",
       " ('Y',),\n",
       " ('Y',),\n",
       " ('Y',),\n",
       " ('Y',),\n",
       " ('Y',),\n",
       " ('Y',),\n",
       " ('Y',),\n",
       " ('Y',),\n",
       " ('Y',),\n",
       " ('Y',),\n",
       " ('Y',),\n",
       " ('Y',),\n",
       " ('Y',),\n",
       " ('N',),\n",
       " ('Y',),\n",
       " ('Y',),\n",
       " ('Y',),\n",
       " ('N',),\n",
       " ('N',),\n",
       " ('Y',),\n",
       " ('N',),\n",
       " ('Y',),\n",
       " ('N',)]"
      ]
     },
     "execution_count": 6,
     "metadata": {},
     "output_type": "execute_result"
    }
   ],
   "source": [
    "yes_self_sql = (\"SELECT Application_Status \"\n",
    "                \"FROM cdw_sapp_loan_application \"\n",
    "                \"WHERE Self_employed = 'Yes'\")\n",
    "cursor.execute(yes_self_sql)        #cursor was assigned in the connect_sql() function\n",
    "yes_self_result = cursor.fetchall()          #fetches all the results"
   ]
  },
  {
   "attachments": {},
   "cell_type": "markdown",
   "metadata": {},
   "source": [
    "# Find the percentage of rejection for married male applicants."
   ]
  },
  {
   "attachments": {},
   "cell_type": "markdown",
   "metadata": {},
   "source": [
    "# Find and plot the top three months with the largest transaction data."
   ]
  },
  {
   "attachments": {},
   "cell_type": "markdown",
   "metadata": {},
   "source": [
    "# Find and plot which branch processed the highest total dollar value of healthcare transactions."
   ]
  }
 ],
 "metadata": {
  "kernelspec": {
   "display_name": "Python 3",
   "language": "python",
   "name": "python3"
  },
  "language_info": {
   "codemirror_mode": {
    "name": "ipython",
    "version": 3
   },
   "file_extension": ".py",
   "mimetype": "text/x-python",
   "name": "python",
   "nbconvert_exporter": "python",
   "pygments_lexer": "ipython3",
   "version": "3.10.4"
  },
  "orig_nbformat": 4
 },
 "nbformat": 4,
 "nbformat_minor": 2
}
